{
 "cells": [
  {
   "cell_type": "code",
   "execution_count": 1,
   "metadata": {},
   "outputs": [],
   "source": [
    "import pandas as pd\n",
    "import numpy as np\n",
    "import csv\n",
    "import matplotlib.pyplot as plt\n",
    "import re\n",
    "import random\n",
    "import math\n",
    "from bs4 import BeautifulSoup\n",
    "from fuzzywuzzy import fuzz\n",
    "import os\n",
    "import pymongo\n",
    "from urllib import parse\n",
    "from tqdm import tqdm\n",
    "import time\n",
    "from concurrent.futures import ThreadPoolExecutor\n",
    "from pymongo.errors import AutoReconnect, OperationFailure\n",
    "import json\n",
    "import logging\n",
    "from bson import ObjectId\n",
    "import ast\n",
    "import regex\n",
    "import difflib\n",
    "import traceback\n",
    "import time\n",
    "import logging\n",
    "from Word_Mapping import *\n",
    "from City_Province import *\n",
    "from Config_Functions import *"
   ]
  },
  {
   "cell_type": "code",
   "execution_count": 2,
   "metadata": {},
   "outputs": [
    {
     "name": "stdout",
     "output_type": "stream",
     "text": [
      "数据库连接完成\n"
     ]
    }
   ],
   "source": [
    "sever_ip = '192.168.11.248:27017/admin'\n",
    "user_name = parse.quote_plus(\"root\")\n",
    "password = parse.quote_plus(\"123QAZwsx\")\n",
    "\n",
    "\n",
    "Client = Login(sever_ip, user_name, password)\n",
    "db = Client['cpws']\n",
    "fields_2 = {'s9': 1, 's7':1}\n",
    "Cursor = db['ws_2014'].find({},fields_2).sort(\"_id\", pymongo.ASCENDING).limit(50000)"
   ]
  },
  {
   "cell_type": "code",
   "execution_count": 7,
   "metadata": {},
   "outputs": [],
   "source": [
    "data_list = list(Cursor)\n"
   ]
  },
  {
   "cell_type": "code",
   "execution_count": 12,
   "metadata": {},
   "outputs": [
    {
     "name": "stdout",
     "output_type": "stream",
     "text": [
      "123\n",
      "123\n",
      "123\n",
      "123\n",
      "123\n",
      "123\n",
      "123\n",
      "123\n",
      "123\n",
      "123\n",
      "123\n",
      "123\n",
      "123\n",
      "123\n",
      "123\n",
      "123\n",
      "123\n",
      "123\n",
      "123\n",
      "123\n",
      "123\n",
      "123\n",
      "123\n",
      "123\n",
      "123\n",
      "123\n",
      "123\n",
      "123\n",
      "123\n",
      "123\n",
      "123\n",
      "123\n",
      "123\n",
      "123\n",
      "123\n",
      "123\n",
      "123\n",
      "123\n",
      "123\n",
      "123\n",
      "123\n",
      "123\n",
      "123\n",
      "123\n",
      "123\n",
      "123\n",
      "123\n",
      "123\n",
      "123\n",
      "123\n",
      "123\n",
      "123\n",
      "123\n",
      "123\n",
      "123\n",
      "123\n",
      "123\n",
      "123\n",
      "123\n",
      "123\n",
      "123\n",
      "123\n",
      "123\n",
      "123\n",
      "123\n",
      "123\n",
      "123\n",
      "123\n",
      "123\n",
      "123\n",
      "123\n",
      "123\n",
      "123\n",
      "123\n",
      "123\n",
      "123\n",
      "123\n",
      "123\n",
      "123\n",
      "123\n",
      "123\n",
      "123\n",
      "123\n",
      "123\n",
      "123\n",
      "123\n",
      "123\n",
      "123\n",
      "123\n",
      "123\n",
      "123\n",
      "123\n",
      "123\n",
      "123\n",
      "123\n",
      "123\n",
      "123\n",
      "123\n",
      "123\n",
      "123\n",
      "123\n",
      "123\n",
      "123\n",
      "123\n",
      "123\n",
      "123\n",
      "123\n",
      "123\n",
      "123\n",
      "123\n",
      "123\n",
      "123\n",
      "123\n",
      "123\n",
      "123\n",
      "123\n",
      "123\n",
      "123\n",
      "123\n",
      "123\n",
      "123\n",
      "123\n",
      "123\n",
      "123\n",
      "123\n",
      "123\n",
      "123\n",
      "123\n",
      "123\n",
      "123\n",
      "123\n",
      "123\n",
      "123\n",
      "123\n",
      "123\n",
      "123\n",
      "123\n",
      "123\n",
      "123\n",
      "123\n",
      "123\n",
      "123\n",
      "123\n",
      "123\n",
      "123\n",
      "123\n",
      "123\n",
      "123\n",
      "123\n",
      "123\n",
      "123\n",
      "123\n",
      "123\n",
      "123\n",
      "123\n",
      "123\n",
      "123\n",
      "123\n",
      "123\n",
      "123\n",
      "123\n",
      "123\n",
      "123\n",
      "123\n",
      "123\n",
      "123\n",
      "123\n",
      "123\n",
      "123\n",
      "123\n",
      "123\n",
      "123\n",
      "123\n",
      "123\n",
      "123\n",
      "123\n",
      "123\n",
      "123\n",
      "123\n",
      "123\n",
      "123\n",
      "123\n",
      "123\n",
      "123\n",
      "123\n",
      "123\n",
      "123\n",
      "123\n",
      "123\n",
      "123\n",
      "123\n",
      "123\n",
      "123\n",
      "123\n",
      "123\n",
      "123\n",
      "123\n",
      "123\n",
      "123\n",
      "123\n",
      "123\n",
      "123\n",
      "123\n",
      "123\n",
      "123\n",
      "123\n",
      "123\n",
      "123\n",
      "123\n",
      "123\n",
      "123\n",
      "123\n",
      "123\n",
      "123\n",
      "123\n",
      "123\n",
      "123\n",
      "123\n",
      "123\n",
      "123\n",
      "123\n",
      "123\n",
      "123\n",
      "123\n",
      "123\n",
      "123\n",
      "123\n",
      "123\n",
      "123\n",
      "123\n",
      "123\n",
      "123\n",
      "123\n",
      "123\n",
      "123\n",
      "123\n",
      "123\n",
      "123\n",
      "123\n",
      "123\n",
      "123\n",
      "123\n",
      "123\n",
      "123\n",
      "123\n",
      "123\n",
      "123\n",
      "123\n",
      "123\n",
      "123\n",
      "123\n",
      "123\n",
      "123\n",
      "123\n",
      "123\n",
      "123\n",
      "123\n",
      "123\n",
      "123\n",
      "123\n",
      "123\n",
      "123\n",
      "123\n",
      "123\n",
      "123\n",
      "123\n",
      "123\n",
      "123\n",
      "123\n",
      "123\n",
      "123\n",
      "123\n",
      "123\n",
      "123\n",
      "123\n",
      "123\n",
      "123\n",
      "123\n",
      "123\n",
      "123\n",
      "123\n",
      "123\n",
      "123\n",
      "123\n",
      "123\n",
      "123\n",
      "123\n",
      "123\n",
      "123\n",
      "123\n",
      "123\n",
      "123\n",
      "123\n",
      "123\n",
      "123\n",
      "123\n",
      "123\n",
      "123\n",
      "123\n",
      "123\n",
      "123\n",
      "123\n",
      "123\n",
      "123\n",
      "123\n",
      "123\n",
      "123\n",
      "123\n",
      "123\n",
      "123\n",
      "123\n",
      "123\n",
      "123\n",
      "123\n",
      "123\n",
      "123\n",
      "123\n",
      "123\n",
      "123\n",
      "123\n",
      "123\n",
      "123\n",
      "123\n",
      "123\n",
      "123\n",
      "123\n",
      "123\n",
      "123\n",
      "123\n",
      "123\n",
      "123\n",
      "123\n",
      "123\n",
      "123\n",
      "123\n",
      "123\n",
      "123\n",
      "123\n",
      "123\n",
      "123\n",
      "123\n",
      "123\n",
      "123\n",
      "123\n",
      "123\n",
      "123\n",
      "123\n",
      "123\n",
      "123\n",
      "123\n",
      "123\n",
      "123\n",
      "123\n",
      "123\n",
      "123\n",
      "123\n",
      "123\n",
      "123\n",
      "123\n",
      "123\n",
      "123\n",
      "123\n",
      "123\n",
      "123\n",
      "123\n",
      "123\n",
      "123\n",
      "123\n",
      "123\n",
      "123\n",
      "123\n",
      "123\n",
      "123\n",
      "123\n",
      "123\n",
      "123\n",
      "123\n",
      "123\n",
      "123\n",
      "123\n",
      "123\n",
      "123\n",
      "123\n",
      "123\n",
      "123\n",
      "123\n",
      "123\n",
      "123\n",
      "123\n",
      "123\n",
      "123\n",
      "123\n",
      "123\n",
      "123\n",
      "123\n",
      "123\n",
      "123\n",
      "123\n",
      "123\n",
      "123\n",
      "123\n",
      "123\n",
      "123\n",
      "123\n",
      "123\n",
      "123\n",
      "123\n",
      "123\n",
      "123\n",
      "123\n",
      "123\n",
      "123\n",
      "123\n",
      "123\n",
      "123\n",
      "123\n",
      "123\n",
      "123\n",
      "123\n",
      "123\n",
      "123\n",
      "123\n",
      "123\n",
      "123\n",
      "123\n"
     ]
    }
   ],
   "source": [
    "Term_s8 = []\n",
    "for i in data_list:\n",
    "    if 's9' in i:\n",
    "        try: \n",
    "            int(i['s9'])\n",
    "        except Exception as e:\n",
    "            if not i['s9']:\n",
    "                print('123')\n",
    "            Term_s8.append(i['s9'])\n",
    "\n"
   ]
  },
  {
   "cell_type": "code",
   "execution_count": 9,
   "metadata": {},
   "outputs": [
    {
     "name": "stdout",
     "output_type": "stream",
     "text": [
      "49158\n"
     ]
    }
   ],
   "source": [
    "print(len(Term_s8))"
   ]
  },
  {
   "cell_type": "code",
   "execution_count": 10,
   "metadata": {},
   "outputs": [
    {
     "name": "stdout",
     "output_type": "stream",
     "text": [
      "24\n"
     ]
    }
   ],
   "source": [
    "unique_elements = len(set(Term_s8))\n",
    "print(unique_elements)"
   ]
  },
  {
   "cell_type": "code",
   "execution_count": 11,
   "metadata": {},
   "outputs": [
    {
     "name": "stdout",
     "output_type": "stream",
     "text": [
      "{'', '催告', '行政审判监督', '非诉行为保全审查', '司法赔偿', '其他', '督促', '行政非诉审查', '民事二审', '特别程序', '民事审判监督', '非诉财产保全审查', '执行审查', '民事管辖', '民事一审', '行政一审', '刑罚与执行变更', '行政二审', '刑事审判监督', '执行实施', '刑事一审', '刑事二审', '刑事管辖', '破产'}\n"
     ]
    }
   ],
   "source": [
    "print(set(Term_s8))"
   ]
  },
  {
   "cell_type": "code",
   "execution_count": 2,
   "metadata": {},
   "outputs": [
    {
     "name": "stdout",
     "output_type": "stream",
     "text": [
      "201\n"
     ]
    }
   ],
   "source": [
    "x = '0201'\n",
    "print(int(x))"
   ]
  },
  {
   "cell_type": "code",
   "execution_count": null,
   "metadata": {},
   "outputs": [],
   "source": []
  },
  {
   "cell_type": "code",
   "execution_count": 17,
   "metadata": {},
   "outputs": [
    {
     "name": "stdout",
     "output_type": "stream",
     "text": [
      "['300', '1500.50', '-200']\n"
     ]
    }
   ],
   "source": [
    "import re\n",
    "\n",
    "# 正则表达式匹配以'判令'开头，'元'结束，中间是小数或整数的字符串\n",
    "pattern = r'判令.*?(-?\\d+(?:\\.\\d+)?)元'\n",
    "\n",
    "# 测试字符串\n",
    "test_string = \"判令赔偿300元判令赔偿1500.50元判令赔偿-200元\"\n",
    "\n",
    "# 使用re.findall来查找所有匹配的字符串\n",
    "matches = re.findall(pattern, test_string)\n",
    "\n",
    "print(matches)"
   ]
  },
  {
   "cell_type": "code",
   "execution_count": 21,
   "metadata": {},
   "outputs": [
    {
     "ename": "TypeError",
     "evalue": "Plaintiff_and_Deffendant_Process() got an unexpected keyword argument 'result_type'",
     "output_type": "error",
     "traceback": [
      "\u001b[1;31m---------------------------------------------------------------------------\u001b[0m",
      "\u001b[1;31mTypeError\u001b[0m                                 Traceback (most recent call last)",
      "Cell \u001b[1;32mIn[21], line 24\u001b[0m\n\u001b[0;32m     21\u001b[0m Datatable \u001b[38;5;241m=\u001b[39m pd\u001b[38;5;241m.\u001b[39mDataFrame({\u001b[38;5;124m'\u001b[39m\u001b[38;5;124m诉称\u001b[39m\u001b[38;5;124m'\u001b[39m: [\u001b[38;5;124m'\u001b[39m\u001b[38;5;124m原告ABC被告XYZ\u001b[39m\u001b[38;5;124m'\u001b[39m, \u001b[38;5;124m'\u001b[39m\u001b[38;5;124m原告123被告456\u001b[39m\u001b[38;5;124m'\u001b[39m]})\n\u001b[0;32m     23\u001b[0m \u001b[38;5;66;03m# 使用 apply 函数，并指定 result_type='expand' 来分配返回的元组到多个列\u001b[39;00m\n\u001b[1;32m---> 24\u001b[0m Datatable[[\u001b[38;5;124m'\u001b[39m\u001b[38;5;124m原告诉称\u001b[39m\u001b[38;5;124m'\u001b[39m, \u001b[38;5;124m'\u001b[39m\u001b[38;5;124m被告辩称\u001b[39m\u001b[38;5;124m'\u001b[39m]] \u001b[38;5;241m=\u001b[39m Datatable[\u001b[38;5;124m'\u001b[39m\u001b[38;5;124m诉称\u001b[39m\u001b[38;5;124m'\u001b[39m]\u001b[38;5;241m.\u001b[39mapply(Plaintiff_and_Deffendant_Process, result_type\u001b[38;5;241m=\u001b[39m\u001b[38;5;124m'\u001b[39m\u001b[38;5;124mexpand\u001b[39m\u001b[38;5;124m'\u001b[39m)\n\u001b[0;32m     26\u001b[0m \u001b[38;5;28mprint\u001b[39m(Datatable)\n",
      "File \u001b[1;32mc:\\Software\\Anaconda\\Lib\\site-packages\\pandas\\core\\series.py:4764\u001b[0m, in \u001b[0;36mSeries.apply\u001b[1;34m(self, func, convert_dtype, args, by_row, **kwargs)\u001b[0m\n\u001b[0;32m   4629\u001b[0m \u001b[38;5;28;01mdef\u001b[39;00m \u001b[38;5;21mapply\u001b[39m(\n\u001b[0;32m   4630\u001b[0m     \u001b[38;5;28mself\u001b[39m,\n\u001b[0;32m   4631\u001b[0m     func: AggFuncType,\n\u001b[1;32m   (...)\u001b[0m\n\u001b[0;32m   4636\u001b[0m     \u001b[38;5;241m*\u001b[39m\u001b[38;5;241m*\u001b[39mkwargs,\n\u001b[0;32m   4637\u001b[0m ) \u001b[38;5;241m-\u001b[39m\u001b[38;5;241m>\u001b[39m DataFrame \u001b[38;5;241m|\u001b[39m Series:\n\u001b[0;32m   4638\u001b[0m \u001b[38;5;250m    \u001b[39m\u001b[38;5;124;03m\"\"\"\u001b[39;00m\n\u001b[0;32m   4639\u001b[0m \u001b[38;5;124;03m    Invoke function on values of Series.\u001b[39;00m\n\u001b[0;32m   4640\u001b[0m \n\u001b[1;32m   (...)\u001b[0m\n\u001b[0;32m   4755\u001b[0m \u001b[38;5;124;03m    dtype: float64\u001b[39;00m\n\u001b[0;32m   4756\u001b[0m \u001b[38;5;124;03m    \"\"\"\u001b[39;00m\n\u001b[0;32m   4757\u001b[0m     \u001b[38;5;28;01mreturn\u001b[39;00m SeriesApply(\n\u001b[0;32m   4758\u001b[0m         \u001b[38;5;28mself\u001b[39m,\n\u001b[0;32m   4759\u001b[0m         func,\n\u001b[0;32m   4760\u001b[0m         convert_dtype\u001b[38;5;241m=\u001b[39mconvert_dtype,\n\u001b[0;32m   4761\u001b[0m         by_row\u001b[38;5;241m=\u001b[39mby_row,\n\u001b[0;32m   4762\u001b[0m         args\u001b[38;5;241m=\u001b[39margs,\n\u001b[0;32m   4763\u001b[0m         kwargs\u001b[38;5;241m=\u001b[39mkwargs,\n\u001b[1;32m-> 4764\u001b[0m     )\u001b[38;5;241m.\u001b[39mapply()\n",
      "File \u001b[1;32mc:\\Software\\Anaconda\\Lib\\site-packages\\pandas\\core\\apply.py:1209\u001b[0m, in \u001b[0;36mSeriesApply.apply\u001b[1;34m(self)\u001b[0m\n\u001b[0;32m   1206\u001b[0m     \u001b[38;5;28;01mreturn\u001b[39;00m \u001b[38;5;28mself\u001b[39m\u001b[38;5;241m.\u001b[39mapply_compat()\n\u001b[0;32m   1208\u001b[0m \u001b[38;5;66;03m# self.func is Callable\u001b[39;00m\n\u001b[1;32m-> 1209\u001b[0m \u001b[38;5;28;01mreturn\u001b[39;00m \u001b[38;5;28mself\u001b[39m\u001b[38;5;241m.\u001b[39mapply_standard()\n",
      "File \u001b[1;32mc:\\Software\\Anaconda\\Lib\\site-packages\\pandas\\core\\apply.py:1289\u001b[0m, in \u001b[0;36mSeriesApply.apply_standard\u001b[1;34m(self)\u001b[0m\n\u001b[0;32m   1283\u001b[0m \u001b[38;5;66;03m# row-wise access\u001b[39;00m\n\u001b[0;32m   1284\u001b[0m \u001b[38;5;66;03m# apply doesn't have a `na_action` keyword and for backward compat reasons\u001b[39;00m\n\u001b[0;32m   1285\u001b[0m \u001b[38;5;66;03m# we need to give `na_action=\"ignore\"` for categorical data.\u001b[39;00m\n\u001b[0;32m   1286\u001b[0m \u001b[38;5;66;03m# TODO: remove the `na_action=\"ignore\"` when that default has been changed in\u001b[39;00m\n\u001b[0;32m   1287\u001b[0m \u001b[38;5;66;03m#  Categorical (GH51645).\u001b[39;00m\n\u001b[0;32m   1288\u001b[0m action \u001b[38;5;241m=\u001b[39m \u001b[38;5;124m\"\u001b[39m\u001b[38;5;124mignore\u001b[39m\u001b[38;5;124m\"\u001b[39m \u001b[38;5;28;01mif\u001b[39;00m \u001b[38;5;28misinstance\u001b[39m(obj\u001b[38;5;241m.\u001b[39mdtype, CategoricalDtype) \u001b[38;5;28;01melse\u001b[39;00m \u001b[38;5;28;01mNone\u001b[39;00m\n\u001b[1;32m-> 1289\u001b[0m mapped \u001b[38;5;241m=\u001b[39m obj\u001b[38;5;241m.\u001b[39m_map_values(\n\u001b[0;32m   1290\u001b[0m     mapper\u001b[38;5;241m=\u001b[39mcurried, na_action\u001b[38;5;241m=\u001b[39maction, convert\u001b[38;5;241m=\u001b[39m\u001b[38;5;28mself\u001b[39m\u001b[38;5;241m.\u001b[39mconvert_dtype\n\u001b[0;32m   1291\u001b[0m )\n\u001b[0;32m   1293\u001b[0m \u001b[38;5;28;01mif\u001b[39;00m \u001b[38;5;28mlen\u001b[39m(mapped) \u001b[38;5;129;01mand\u001b[39;00m \u001b[38;5;28misinstance\u001b[39m(mapped[\u001b[38;5;241m0\u001b[39m], ABCSeries):\n\u001b[0;32m   1294\u001b[0m     \u001b[38;5;66;03m# GH#43986 Need to do list(mapped) in order to get treated as nested\u001b[39;00m\n\u001b[0;32m   1295\u001b[0m     \u001b[38;5;66;03m#  See also GH#25959 regarding EA support\u001b[39;00m\n\u001b[0;32m   1296\u001b[0m     \u001b[38;5;28;01mreturn\u001b[39;00m obj\u001b[38;5;241m.\u001b[39m_constructor_expanddim(\u001b[38;5;28mlist\u001b[39m(mapped), index\u001b[38;5;241m=\u001b[39mobj\u001b[38;5;241m.\u001b[39mindex)\n",
      "File \u001b[1;32mc:\\Software\\Anaconda\\Lib\\site-packages\\pandas\\core\\base.py:921\u001b[0m, in \u001b[0;36mIndexOpsMixin._map_values\u001b[1;34m(self, mapper, na_action, convert)\u001b[0m\n\u001b[0;32m    918\u001b[0m \u001b[38;5;28;01mif\u001b[39;00m \u001b[38;5;28misinstance\u001b[39m(arr, ExtensionArray):\n\u001b[0;32m    919\u001b[0m     \u001b[38;5;28;01mreturn\u001b[39;00m arr\u001b[38;5;241m.\u001b[39mmap(mapper, na_action\u001b[38;5;241m=\u001b[39mna_action)\n\u001b[1;32m--> 921\u001b[0m \u001b[38;5;28;01mreturn\u001b[39;00m algorithms\u001b[38;5;241m.\u001b[39mmap_array(arr, mapper, na_action\u001b[38;5;241m=\u001b[39mna_action, convert\u001b[38;5;241m=\u001b[39mconvert)\n",
      "File \u001b[1;32mc:\\Software\\Anaconda\\Lib\\site-packages\\pandas\\core\\algorithms.py:1814\u001b[0m, in \u001b[0;36mmap_array\u001b[1;34m(arr, mapper, na_action, convert)\u001b[0m\n\u001b[0;32m   1812\u001b[0m values \u001b[38;5;241m=\u001b[39m arr\u001b[38;5;241m.\u001b[39mastype(\u001b[38;5;28mobject\u001b[39m, copy\u001b[38;5;241m=\u001b[39m\u001b[38;5;28;01mFalse\u001b[39;00m)\n\u001b[0;32m   1813\u001b[0m \u001b[38;5;28;01mif\u001b[39;00m na_action \u001b[38;5;129;01mis\u001b[39;00m \u001b[38;5;28;01mNone\u001b[39;00m:\n\u001b[1;32m-> 1814\u001b[0m     \u001b[38;5;28;01mreturn\u001b[39;00m lib\u001b[38;5;241m.\u001b[39mmap_infer(values, mapper, convert\u001b[38;5;241m=\u001b[39mconvert)\n\u001b[0;32m   1815\u001b[0m \u001b[38;5;28;01melse\u001b[39;00m:\n\u001b[0;32m   1816\u001b[0m     \u001b[38;5;28;01mreturn\u001b[39;00m lib\u001b[38;5;241m.\u001b[39mmap_infer_mask(\n\u001b[0;32m   1817\u001b[0m         values, mapper, mask\u001b[38;5;241m=\u001b[39misna(values)\u001b[38;5;241m.\u001b[39mview(np\u001b[38;5;241m.\u001b[39muint8), convert\u001b[38;5;241m=\u001b[39mconvert\n\u001b[0;32m   1818\u001b[0m     )\n",
      "File \u001b[1;32mlib.pyx:2926\u001b[0m, in \u001b[0;36mpandas._libs.lib.map_infer\u001b[1;34m()\u001b[0m\n",
      "File \u001b[1;32mc:\\Software\\Anaconda\\Lib\\site-packages\\pandas\\core\\apply.py:1278\u001b[0m, in \u001b[0;36mSeriesApply.apply_standard.<locals>.curried\u001b[1;34m(x)\u001b[0m\n\u001b[0;32m   1277\u001b[0m \u001b[38;5;28;01mdef\u001b[39;00m \u001b[38;5;21mcurried\u001b[39m(x):\n\u001b[1;32m-> 1278\u001b[0m     \u001b[38;5;28;01mreturn\u001b[39;00m func(x, \u001b[38;5;241m*\u001b[39m\u001b[38;5;28mself\u001b[39m\u001b[38;5;241m.\u001b[39margs, \u001b[38;5;241m*\u001b[39m\u001b[38;5;241m*\u001b[39m\u001b[38;5;28mself\u001b[39m\u001b[38;5;241m.\u001b[39mkwargs)\n",
      "\u001b[1;31mTypeError\u001b[0m: Plaintiff_and_Deffendant_Process() got an unexpected keyword argument 'result_type'"
     ]
    }
   ],
   "source": [
    "import pandas as pd\n",
    "\n",
    "# 假设 Deffendant_Split 已经被定义，例如：\n",
    "Deffendant_Split = ['被告']\n",
    "\n",
    "def Plaintiff_and_Deffendant_Process(row):\n",
    "    Plaintiff = ''\n",
    "    Deffendant = ''\n",
    "    for keyword in Deffendant_Split:\n",
    "        index = row.find(keyword)\n",
    "        if index != -1:\n",
    "            Plaintiff = row[:index]\n",
    "            Deffendant = row[index:]\n",
    "            break\n",
    "    if Deffendant:\n",
    "        return Plaintiff, Deffendant\n",
    "    else:\n",
    "        return row, '无'\n",
    "\n",
    "# 假设 Datatable 是您的 DataFrame，并且它有一个名为 '诉称' 的列\n",
    "Datatable = pd.DataFrame({'诉称': ['原告ABC被告XYZ', '原告123被告456']})\n",
    "\n",
    "# 使用 apply 函数，并指定 result_type='expand' 来分配返回的元组到多个列\n",
    "Datatable[['原告诉称', '被告辩称']] = Datatable['诉称'].apply(Plaintiff_and_Deffendant_Process, result_type='expand')\n",
    "\n",
    "print(Datatable)"
   ]
  },
  {
   "cell_type": "code",
   "execution_count": 31,
   "metadata": {},
   "outputs": [
    {
     "name": "stdout",
     "output_type": "stream",
     "text": [
      "[Decimal('161973.41')]\n"
     ]
    }
   ],
   "source": [
    "Numberlist = [1000,100.5,200.5,300.5,601.5,20,50,70]\n",
    "Numberlist = [56639.33, 4060.0, 1890.0, 13352.4, 1180.0, 67831.68, 15000.0, 1720.0, 300.0, 161973.41]\n",
    "\n",
    "def Calculate_Amount(Numberlist):\n",
    "    from decimal import Decimal\n",
    "    Numberlist = [Decimal(str(i)) for i in Numberlist]\n",
    "    Numberlist_pairs = [(index, item) for index, item in enumerate(Numberlist)]\n",
    "    Number_Sequence = sorted(Numberlist_pairs, key=lambda pair: pair[1])\n",
    "\n",
    "    for pair in Number_Sequence:\n",
    "        Cur = pair[0]\n",
    "        Flag = 0\n",
    "        Left_List = []; Right_List = []\n",
    "        if not Flag:\n",
    "            for i in range(0, Cur):\n",
    "                Left_List.append((Cur - 1 - i, Numberlist[Cur - 1 - i]))\n",
    "                if sum(item for index, item in Left_List) == Numberlist[Cur]:\n",
    "                    Flag = 1\n",
    "                    break\n",
    "                if Numberlist[Cur - 1 - i] > Numberlist[Cur]:\n",
    "                    break\n",
    "        if not Flag:\n",
    "            for i in range(Cur+1, len(Numberlist)):\n",
    "                Right_List.append((i, Numberlist[i]))\n",
    "                if sum(item for index, item in Right_List) == Numberlist[Cur]:\n",
    "                    Flag = 2\n",
    "                    break\n",
    "                if Numberlist[i] > Numberlist[Cur]:\n",
    "                    break\n",
    "        if Flag == 1:\n",
    "            for Del in Left_List:\n",
    "                Numberlist[Del[0]] = 0\n",
    "        if Flag == 2:\n",
    "            for Del in Right_List:\n",
    "                Numberlist[Del[0]] = 0\n",
    "    Result = [item for item in Numberlist if item != 0]\n",
    "\n",
    "    return Result\n",
    "\n",
    "\n",
    "print(Calculate_Amount(Numberlist))\n"
   ]
  },
  {
   "cell_type": "code",
   "execution_count": 25,
   "metadata": {},
   "outputs": [
    {
     "name": "stdout",
     "output_type": "stream",
     "text": [
      "161973.40999999997\n"
     ]
    }
   ],
   "source": [
    "# [56639.33, 4060.0, 1890.0, 13352.4, 1180.0, 67831.68, 15000.0, 1720.0, 300.0, 161973.41]\n",
    "x = [56639.33, 4060.0, 1890.0, 13352.4, 1180.0, 67831.68, 15000.0, 1720.0, 300.0]\n",
    "print(sum(x))\n"
   ]
  },
  {
   "cell_type": "code",
   "execution_count": 28,
   "metadata": {},
   "outputs": [
    {
     "name": "stdout",
     "output_type": "stream",
     "text": [
      "56639.33\n"
     ]
    }
   ],
   "source": [
    "print(str(56639.33))"
   ]
  },
  {
   "cell_type": "code",
   "execution_count": 27,
   "metadata": {},
   "outputs": [
    {
     "name": "stdout",
     "output_type": "stream",
     "text": [
      "161973.41\n"
     ]
    }
   ],
   "source": [
    "from decimal import Decimal\n",
    "x = [Decimal('56639.33'), Decimal('4060.0'), Decimal('1890.0'), Decimal('13352.4'), Decimal('1180.0'), Decimal('67831.68'), Decimal('15000.0'), Decimal('1720.0'), Decimal('300.0')]\n",
    "print(sum(x))"
   ]
  },
  {
   "cell_type": "code",
   "execution_count": 35,
   "metadata": {},
   "outputs": [
    {
     "name": "stdout",
     "output_type": "stream",
     "text": [
      "未找到判令后的金额\n"
     ]
    }
   ],
   "source": [
    "txt = '最近的市场调研显示，新开发的商业地产项目在首月营业中收入可观，其中店铺A的营业额达到了56000.85元，而店铺B由于地理位置更佳，营业额高达80000元。餐饮区的小吃店表现出乎意料地好，一家名为“美味角落”的店铺总计收入了30500元。与此同时，位于市中心的豪华公寓项目销售情况良好，目前已经售出了价值2000万元的房产。小型公寓的销售额也不俗，总计达到了1500万元。这些数据表明，尽管市场整体趋势波动，但高端和经济型房产仍然有稳定的需求。'\n",
    "txt = '你好'\n",
    "\n",
    "\n",
    "Sum = 0\n",
    "amounts = []\n",
    "matches = re.findall(r\"\\d+(?:\\.\\d+)?万?(?:元|万元)\", txt)\n",
    "if matches:\n",
    "    for match in matches:\n",
    "        amount = re.search(r\"\\d+(?:\\.\\d+)?\", match).group()\n",
    "        if \"万元\" in match:\n",
    "            amount = float(amount) * 10000\n",
    "        else:\n",
    "            amount = float(amount)\n",
    "        amounts.append(amount)\n",
    "else:\n",
    "    amounts.append(0)"
   ]
  },
  {
   "cell_type": "code",
   "execution_count": 36,
   "metadata": {},
   "outputs": [
    {
     "data": {
      "text/plain": [
       "4172.76"
      ]
     },
     "execution_count": 36,
     "metadata": {},
     "output_type": "execute_result"
    }
   ],
   "source": [
    "4021.15 + 134.61 + 17"
   ]
  },
  {
   "cell_type": "code",
   "execution_count": 37,
   "metadata": {},
   "outputs": [],
   "source": [
    "Text_to_process = \"这是一个示例文本（这部分将被删除）。[这部分也一样]，{甚至这部分}。\"\n",
    "\n",
    "# 正则表达式匹配圆括号、方括号和花括号\n",
    "pattern = re.compile(r'（.*?）')\n",
    "\n",
    "# 替换掉所有括号及其内部的内容\n",
    "Clean_Text = re.sub(pattern, '', Text_to_process)"
   ]
  },
  {
   "cell_type": "code",
   "execution_count": 38,
   "metadata": {},
   "outputs": [
    {
     "name": "stdout",
     "output_type": "stream",
     "text": [
      "这是一个示例文本。[这部分也一样]，{甚至这部分}。\n"
     ]
    }
   ],
   "source": [
    "print(Clean_Text)\n"
   ]
  },
  {
   "cell_type": "code",
   "execution_count": null,
   "metadata": {},
   "outputs": [],
   "source": [
    "from pymongo import MongoClient\n",
    "\n",
    "\n",
    "\n",
    "\n",
    "# 选择'cpws'数据库\n",
    "db = Client['cpws']\n",
    "\n",
    "# 选择'Else_1'集合\n",
    "else_1_collection = db['Else_1']\n",
    "\n",
    "# 选择'Hetong'集合\n",
    "hetong_collection = db['合同、无因管理、不当得利纠纷_1']\n",
    "\n",
    "# 查找'案由'为'合同纠纷'的前10000条记录\n",
    "query = {'案由': '合同纠纷'}\n",
    "contract_disputes = else_1_collection.find(query).limit(10000)\n",
    "\n",
    "# 插入记录到'Hetong'集合，并且从'Else_1'集合中删除这些记录\n",
    "for document in contract_disputes:\n",
    "    # 插入到'Hetong'集合\n",
    "    hetong_collection.insert_one(document)\n",
    "    # 从'Else_1'集合删除\n",
    "    # else_1_collection.delete_one({'_id': document['_id']})\n",
    "\n",
    "\n"
   ]
  },
  {
   "cell_type": "code",
   "execution_count": null,
   "metadata": {},
   "outputs": [],
   "source": []
  },
  {
   "cell_type": "code",
   "execution_count": 10,
   "metadata": {},
   "outputs": [],
   "source": [
    "with open('123.txt', 'a') as file:\n",
    "    file.write('123,') \n",
    "    file.write('456') "
   ]
  },
  {
   "cell_type": "code",
   "execution_count": 11,
   "metadata": {},
   "outputs": [
    {
     "name": "stdout",
     "output_type": "stream",
     "text": [
      "123\n"
     ]
    }
   ],
   "source": [
    "with open('123.txt', 'r') as file:\n",
    "    [a,b] = file.read().split(',')\n",
    "    print(a)"
   ]
  },
  {
   "cell_type": "code",
   "execution_count": null,
   "metadata": {},
   "outputs": [],
   "source": [
    "last_db = 'ws_2014'"
   ]
  },
  {
   "cell_type": "code",
   "execution_count": null,
   "metadata": {},
   "outputs": [],
   "source": [
    "print(last_db[:-1])"
   ]
  }
 ],
 "metadata": {
  "kernelspec": {
   "display_name": "base",
   "language": "python",
   "name": "python3"
  },
  "language_info": {
   "codemirror_mode": {
    "name": "ipython",
    "version": 3
   },
   "file_extension": ".py",
   "mimetype": "text/x-python",
   "name": "python",
   "nbconvert_exporter": "python",
   "pygments_lexer": "ipython3",
   "version": "3.11.7"
  }
 },
 "nbformat": 4,
 "nbformat_minor": 2
}
