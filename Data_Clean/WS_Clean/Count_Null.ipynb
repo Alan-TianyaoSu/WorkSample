{
 "cells": [
  {
   "cell_type": "code",
   "execution_count": 2,
   "metadata": {},
   "outputs": [],
   "source": [
    "import pandas as pd\n",
    "import numpy as np\n",
    "import csv\n",
    "import matplotlib.pyplot as plt\n",
    "import re\n",
    "import random\n",
    "import math\n",
    "from bs4 import BeautifulSoup\n",
    "from fuzzywuzzy import fuzz\n",
    "import os\n",
    "import pymongo\n",
    "from urllib import parse\n",
    "from tqdm import tqdm\n",
    "import time\n",
    "from concurrent.futures import ThreadPoolExecutor\n",
    "from pymongo.errors import AutoReconnect, OperationFailure\n",
    "import json\n",
    "import logging\n",
    "from bson import ObjectId\n",
    "import ast\n",
    "import regex\n",
    "import difflib\n",
    "import traceback\n",
    "import time\n",
    "import logging\n",
    "from Word_Mapping import *\n",
    "from City_Province import *\n",
    "from Config_Functions import *"
   ]
  },
  {
   "cell_type": "code",
   "execution_count": 3,
   "metadata": {},
   "outputs": [
    {
     "name": "stdout",
     "output_type": "stream",
     "text": [
      "数据库连接完成\n"
     ]
    }
   ],
   "source": [
    "sever_ip = '192.168.11.248:27017/admin'\n",
    "user_name = parse.quote_plus(\"root\")\n",
    "password = parse.quote_plus(\"123QAZwsx\")\n",
    "\n",
    "\n",
    "\n",
    "\n",
    "\n",
    "Client = Login(sever_ip, user_name, password)\n",
    "# 选择'cpws'数据库\n",
    "db = Client['cpws']"
   ]
  },
  {
   "cell_type": "code",
   "execution_count": 4,
   "metadata": {},
   "outputs": [],
   "source": [
    "# 选择'cpws'数据库\n",
    "db = Client['cpws']\n",
    "\n",
    "# 选择'Else_1'集合\n",
    "else_1_collection = db['Else_1']\n",
    "\n",
    "# 在'Else_1'集合中查找一条数据\n",
    "document = else_1_collection.find_one()\n",
    "\n",
    "# 检查是否找到了文档\n",
    "if document:\n",
    "    # 选择'Else_11'集合\n",
    "    else_11_collection = db['Else_11']\n",
    "    \n",
    "    # 将找到的文档插入'Else_11'集合\n",
    "    else_11_collection.insert_one(document)\n",
    "else:\n",
    "    print(\"没有找到文档。\")"
   ]
  },
  {
   "cell_type": "code",
   "execution_count": 70,
   "metadata": {},
   "outputs": [],
   "source": [
    "# 选择'Else_1'集合\n",
    "collection = db['与公司、证券、保险、票据等有关的民事纠纷_4']\n",
    "\n",
    "last_processed_position = 0\n",
    "size = 10000\n",
    "\n",
    "Result_Col = ['_id', '标题', '案号', '文书类型', '判决日期', \n",
    "              '审理法院', '检察机关', '相关人员', '原告人', '被告人', '申请金额', '实际判决金额',\n",
    "              '审理经过', '原告诉称', '被告辩称', '法院查明', '地区', '案件类型', '审理阶段',\n",
    "              '本院认为', '判决结果', '落款', '法官姓名', '案由', '是否公开']\n",
    "\n",
    "fields = {key: 1 for key in Result_Col}\n",
    "\n",
    "Count_Table = {key: 0 for key in Result_Col}\n",
    "\n",
    "key_list = list(Count_Table.keys())[1:]\n",
    "\n",
    "with open('Check.txt', 'w') as file:\n",
    "    file.write('0')"
   ]
  },
  {
   "cell_type": "code",
   "execution_count": null,
   "metadata": {},
   "outputs": [],
   "source": [
    "with open('Check.txt', 'r') as file:\n",
    "    last_processed_position = ObjectId(file.read())"
   ]
  },
  {
   "cell_type": "code",
   "execution_count": 71,
   "metadata": {},
   "outputs": [
    {
     "name": "stdout",
     "output_type": "stream",
     "text": [
      "完成\n"
     ]
    }
   ],
   "source": [
    "\n",
    "Flag = 0\n",
    "\n",
    "while True:\n",
    "    if Flag == 0:\n",
    "        Cursor = collection.find({},fields).sort(\"_id\", pymongo.ASCENDING).limit(size)\n",
    "    else:\n",
    "        Cursor = collection.find({\"_id\": {\"$gt\": ObjectId(last_processed_position)}},fields).sort(\"_id\", pymongo.ASCENDING).limit(size)\n",
    "    \n",
    "    with open('Check.txt', 'w') as file:\n",
    "        file.write(str(last_processed_position))\n",
    "\n",
    "\n",
    "    document_list = list(Cursor)\n",
    "    Flag += len(document_list)\n",
    "    if len(document_list) == 0:\n",
    "        print('完成')\n",
    "        break\n",
    "    document_dict = pd.DataFrame(document_list)\n",
    "    last_processed_position = document_dict[\"_id\"].iloc[-1]\n",
    "\n",
    "    \n",
    "    for KEY in key_list:\n",
    "        for row in document_dict.itertuples():\n",
    "            \n",
    "            value = getattr(row, KEY)\n",
    "\n",
    "            if not value or value == math.nan:\n",
    "                Count_Table[KEY] += 1\n",
    "            \n",
    "            elif isinstance(value, list):\n",
    "                if len(value) == 0:\n",
    "                    Count_Table[KEY] += 1\n",
    "                elif value[0] == '无' or value[0] == '其他' or value[0] == '未知':\n",
    "                    Count_Table[KEY] += 1\n",
    "\n",
    "            elif isinstance(value, str):\n",
    "                if len(value) == 0:\n",
    "                    Count_Table[KEY] += 1\n",
    "                elif value == '无' or value == '其他' or value == '未知':\n",
    "                    Count_Table[KEY] += 1\n",
    "\n",
    "            else:\n",
    "                if value == 0:\n",
    "                    Count_Table[KEY] += 1\n",
    "        \n"
   ]
  },
  {
   "cell_type": "code",
   "execution_count": 72,
   "metadata": {},
   "outputs": [
    {
     "name": "stdout",
     "output_type": "stream",
     "text": [
      "{'_id': 0, '标题': 4, '案号': 1, '文书类型': 27922, '判决日期': 0, '审理法院': 27256, '检察机关': 254297, '相关人员': 25380, '原告人': 30225, '被告人': 38290, '申请金额': 172388, '实际判决金额': 97866, '审理经过': 40737, '原告诉称': 155107, '被告辩称': 186224, '法院查明': 153245, '地区': 158365, '案件类型': 0, '审理阶段': 33815, '本院认为': 27997, '判决结果': 27552, '落款': 24545, '法官姓名': 30465, '案由': 0, '是否公开': 0}\n"
     ]
    }
   ],
   "source": [
    "print(Count_Table)"
   ]
  },
  {
   "cell_type": "code",
   "execution_count": 73,
   "metadata": {},
   "outputs": [
    {
     "name": "stdout",
     "output_type": "stream",
     "text": [
      "254297\n"
     ]
    }
   ],
   "source": [
    "print(Flag)"
   ]
  },
  {
   "cell_type": "code",
   "execution_count": null,
   "metadata": {},
   "outputs": [],
   "source": []
  },
  {
   "cell_type": "markdown",
   "metadata": {},
   "source": [
    "660543c6a9a779080abc92ff"
   ]
  },
  {
   "cell_type": "code",
   "execution_count": 78,
   "metadata": {},
   "outputs": [
    {
     "data": {
      "text/plain": [
       "UpdateResult({'n': 1, 'nModified': 1, 'ok': 1.0, 'updatedExisting': True}, acknowledged=True)"
      ]
     },
     "execution_count": 78,
     "metadata": {},
     "output_type": "execute_result"
    }
   ],
   "source": [
    "collection = db['Else_10']\n",
    "collection.update_many(\n",
    "    {}, \n",
    "    { '$rename': { '标的公司所属行业分布情况': '公司所属行业分布情况' } }\n",
    ")"
   ]
  },
  {
   "cell_type": "code",
   "execution_count": 79,
   "metadata": {},
   "outputs": [],
   "source": [
    "collection = db['Else_11']\n",
    "record = {\n",
    "    '_id': ObjectId(),  # 自动生成ObjectId\n",
    "    '标题': 3,\n",
    "    '案号': 0,\n",
    "    '文书类型': 27804,\n",
    "    '判决日期': 2,\n",
    "    '审理法院': 27216,\n",
    "    '检察机关': 244943,\n",
    "    '相关人员': 25163,\n",
    "    '原告人': 29858,\n",
    "    '被告人': 37593,\n",
    "    '申请金额': 165845,\n",
    "    '实际判决金额': 93916,\n",
    "    '审理经过': 40096,\n",
    "    '原告诉称': 149060,\n",
    "    '被告辩称': 179271,\n",
    "    '法院查明': 146962,\n",
    "    '地区': 153117,\n",
    "    '案件类型': 0,\n",
    "    '审理阶段': 30905,\n",
    "    '本院认为': 27728,\n",
    "    '判决结果': 27290,\n",
    "    '落款': 24528,\n",
    "    '法官姓名': 30428,\n",
    "    '案由': 0,\n",
    "    '是否公开': 0,\n",
    "    '起诉/提出执行申请日期': '示例值',\n",
    "    '处理案件所需时间': '示例值',\n",
    "    '起诉至执行完毕所需时间': '示例值',\n",
    "    '被告数量': '示例值',\n",
    "    '诉讼请求': '示例值',\n",
    "    '执行成功的金额': '示例值',\n",
    "    '判决支持回购款及利息金额比率': '示例值',\n",
    "    '判决支持总金额比率': '示例值',\n",
    "    '执行成功金额比率': '示例值',\n",
    "    '诉讼请求与实际执行到位金额比率': '示例值',\n",
    "    '标的公司名称': '示例值',\n",
    "    '标的公司所属行业': '示例值',\n",
    "    '提出回购请求所依据的文件': '示例值',\n",
    "    '交易文件签署时间': '示例值',\n",
    "    '提出回购请求所依据的条款': '示例值',\n",
    "    '回购股权交易轮次': '示例值',\n",
    "    '标的公司所属行业分布情况': '示例值',\n",
    "    '法院层级': '示例值',\n",
    "    '审理程序': '示例值',\n",
    "    '律所': '示例值',\n",
    "    '律师': '示例值',\n",
    "    '引用法条': '示例值',\n",
    "    '关键字': '示例值',\n",
    "    '法院判决主文': '示例值',\n",
    "    '判决支持情况': '示例值',\n",
    "    '申请执行的金额': '示例值'\n",
    "}\n",
    "\n",
    "# 插入记录到集合中\n",
    "insert_result = collection.insert_one(record)"
   ]
  },
  {
   "cell_type": "code",
   "execution_count": null,
   "metadata": {},
   "outputs": [],
   "source": []
  },
  {
   "cell_type": "code",
   "execution_count": null,
   "metadata": {},
   "outputs": [],
   "source": []
  },
  {
   "cell_type": "code",
   "execution_count": null,
   "metadata": {},
   "outputs": [],
   "source": []
  },
  {
   "cell_type": "code",
   "execution_count": null,
   "metadata": {},
   "outputs": [],
   "source": []
  }
 ],
 "metadata": {
  "kernelspec": {
   "display_name": "base",
   "language": "python",
   "name": "python3"
  },
  "language_info": {
   "codemirror_mode": {
    "name": "ipython",
    "version": 3
   },
   "file_extension": ".py",
   "mimetype": "text/x-python",
   "name": "python",
   "nbconvert_exporter": "python",
   "pygments_lexer": "ipython3",
   "version": "3.11.7"
  }
 },
 "nbformat": 4,
 "nbformat_minor": 2
}
